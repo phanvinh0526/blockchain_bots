{
 "cells": [
  {
   "cell_type": "code",
   "execution_count": 1,
   "metadata": {},
   "outputs": [],
   "source": [
    "import re\n"
   ]
  },
  {
   "cell_type": "code",
   "execution_count": 44,
   "metadata": {},
   "outputs": [],
   "source": [
    "text = \"\"\"\n",
    "🔥 BURNED LP 🔥\n",
    "\n",
    "Ticker: $Sprite\n",
    "Name: Sprite Dog\n",
    "Description: Drink Sprite.\n",
    "\n",
    "Renounced: ✅   |   Burned: ✅\n",
    "Freeze ❄️: Disabled ✅\n",
    "\n",
    "DISTRIBUTIONS\n",
    "Creator: 0%  |  Top 5: 20%  |  Top 20: 46%\n",
    "\n",
    "Market Cap: 85.1k USD\n",
    "Liquidity Pool value: 32.7k USD\n",
    "Tokens in LP: 18%\n",
    "\n",
    "Open time: just created | 18:24 UTC\n",
    "Mint: Fk6QHKs4jZdEERzSWU3y2UgHT3j2smoi5q6nAH9pump\n",
    "BirdEye (https://birdeye.so/token/Fk6QHKs4jZdEERzSWU3y2UgHT3j2smoi5q6nAH9pump?chain=solana&tab=recentTrades) | SolScan (https://solscan.io/account/8R9JkR5ZwGQRbej3GwVNUwqePdKSUhjgRBuSs2iaJHBn) | DexScreener (https://dexscreener.com/solana/8R9JkR5ZwGQRbej3GwVNUwqePdKSUhjgRBuSs2iaJHBn)\n",
    "\n",
    "⬇️ BUY $Sprite with BONKBot ⬇️\n",
    "\"\"\""
   ]
  },
  {
   "cell_type": "code",
   "execution_count": 45,
   "metadata": {},
   "outputs": [],
   "source": [
    "def string_to_float(s):\n",
    "    multipliers = {\n",
    "        'k': 1_000,\n",
    "        'm': 1_000_000,\n",
    "        'b': 1_000_000_000,\n",
    "        't': 1_000_000_000_000\n",
    "    }\n",
    "    # Get the last character to determine the multiplier\n",
    "    suffix = str(s)[-1]\n",
    "    if suffix.isdigit():\n",
    "        # No multiplier suffix; directly convert to float\n",
    "        return float(s)\n",
    "    else:\n",
    "        # Extract the numeric part and apply the multiplier\n",
    "        try:\n",
    "            num = float(s[:-1])\n",
    "            multiplier = multipliers.get(suffix.lower(), 1)\n",
    "            return num * multiplier\n",
    "        except ValueError:\n",
    "            raise ValueError(f\"Cannot convert '{s}' to float.\")\n",
    "        \n",
    "def extract_pool_info(text: str) -> dict:\n",
    "    # Define regular expressions for extracting information\n",
    "    ticker_pattern = r\"Ticker:\\s*\\$(\\w+)\"\n",
    "    name_pattern = r\"Name:\\s*(.+)\"\n",
    "    description_pattern = r\"Description:\\s*(.+?)(?=\\nRenounced:)\"\n",
    "    renounced_pattern = r\"Renounced:\\s*(✅|❌)\"\n",
    "    burned_pattern = r\"Burned:\\s*(✅|❌)\"\n",
    "    freeze_pattern = r\"Freeze(?: ❄️)?:\\s*(Enabled|Disabled)\\s*(✅|❌)\"\n",
    "    # creator_distribution_pattern = r\"Creator:\\s*([\\d.]+%)\"\n",
    "    top5_distribution_pattern = r\"Top 5:\\s*(?:⚠️)?(\\d+)%\"\n",
    "    top20_distribution_pattern = r\"Top 20:\\s*(?:⚠️)?(\\d+)%\"\n",
    "    market_cap_pattern = r\"Market Cap:\\s*([\\d.]+k)\\s*USD\"\n",
    "    liquidity_pool_pattern = r\"Liquidity Pool value:\\s*([\\d.]+k)\\s*USD\"\n",
    "    mint_pattern = r\"Mint:\\s*(\\w+)\"\n",
    "    \n",
    "    # Extract information using regex patterns\n",
    "    ticker = re.search(ticker_pattern, text)\n",
    "    name = re.search(name_pattern, text)\n",
    "    description = re.search(description_pattern, text, re.DOTALL)\n",
    "    renounced = re.search(renounced_pattern, text)\n",
    "    burned = re.search(burned_pattern, text)\n",
    "    freeze = re.search(freeze_pattern, text)\n",
    "    # creator_distribution = re.search(creator_distribution_pattern, text)\n",
    "    top5_distribution = re.search(top5_distribution_pattern, text)\n",
    "    top20_distribution = re.search(top20_distribution_pattern, text)\n",
    "    market_cap = re.search(market_cap_pattern, text)\n",
    "    liquidity_pool_value = re.search(liquidity_pool_pattern, text)\n",
    "    mint = re.search(mint_pattern, text)\n",
    "    \n",
    "    # Return the extracted information\n",
    "    return {\n",
    "        'Ticker': ticker.group(1) if ticker else None,\n",
    "        'Name': name.group(1) if name else None,\n",
    "        'Description': description.group(1).strip() if description else None,\n",
    "        'Renounced': \"YES\" if renounced and renounced.group(1) == r\"✅\" else None,\n",
    "        'Burned': \"YES\" if burned and burned.group(1) == r\"✅\" else None,\n",
    "        'Freeze': freeze.group(1) if freeze and freeze else None,\n",
    "        # 'Creator Distribution': creator_distribution.group(1) if creator_distribution else None,\n",
    "        'Top_5_Holder_Percent': top5_distribution.group(1) if top5_distribution else None,\n",
    "        'Top_20_Holder_Percent': top20_distribution.group(1) if top20_distribution else None,\n",
    "        'Market_Cap': string_to_float(market_cap.group(1)) if market_cap else None,\n",
    "        'Liquidity_Pool_Value': string_to_float(liquidity_pool_value.group(1)) if liquidity_pool_value else None,\n",
    "        'Mint': mint.group(1) if mint else None,\n",
    "        \"Dex_Url\": f\"https://dexscreener.com/solana/{mint.group(1) if mint else None}\",\n",
    "        \"Photon_Url\": f\"https://photon-sol.tinyastro.io/en/lp/{mint.group(1) if mint else None}\"\n",
    "    }\n"
   ]
  },
  {
   "cell_type": "code",
   "execution_count": 46,
   "metadata": {},
   "outputs": [
    {
     "name": "stdout",
     "output_type": "stream",
     "text": [
      "Ticker: Sprite\n",
      "Name: Sprite Dog\n",
      "Description: Drink Sprite.\n",
      "Renounced: YES\n",
      "Burned: YES\n",
      "Freeze: Disabled\n",
      "Top_5_Holder_Percent: 20\n",
      "Top_20_Holder_Percent: 46\n",
      "Market_Cap: 85100.0\n",
      "Liquidity_Pool_Value: 32700.000000000004\n",
      "Mint: Fk6QHKs4jZdEERzSWU3y2UgHT3j2smoi5q6nAH9pump\n",
      "Dex_Url: https://dexscreener.com/solana/Fk6QHKs4jZdEERzSWU3y2UgHT3j2smoi5q6nAH9pump\n",
      "Photon_Url: https://photon-sol.tinyastro.io/en/lp/Fk6QHKs4jZdEERzSWU3y2UgHT3j2smoi5q6nAH9pump\n"
     ]
    }
   ],
   "source": [
    "info = extract_pool_info(text)\n",
    "for key, value in info.items():\n",
    "    print(f\"{key}: {value}\")\n",
    "    "
   ]
  },
  {
   "cell_type": "code",
   "execution_count": null,
   "metadata": {},
   "outputs": [],
   "source": []
  }
 ],
 "metadata": {
  "kernelspec": {
   "display_name": "Python 3",
   "language": "python",
   "name": "python3"
  },
  "language_info": {
   "codemirror_mode": {
    "name": "ipython",
    "version": 3
   },
   "file_extension": ".py",
   "mimetype": "text/x-python",
   "name": "python",
   "nbconvert_exporter": "python",
   "pygments_lexer": "ipython3",
   "version": "3.10.9"
  }
 },
 "nbformat": 4,
 "nbformat_minor": 2
}
