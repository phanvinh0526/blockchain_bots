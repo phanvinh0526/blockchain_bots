{
 "cells": [
  {
   "cell_type": "code",
   "execution_count": 1,
   "metadata": {},
   "outputs": [],
   "source": [
    "import re\n"
   ]
  },
  {
   "cell_type": "code",
   "execution_count": 44,
   "metadata": {},
   "outputs": [],
   "source": [
    "text = \"\"\"\n",
    "🔥 BURNED LP 🔥\n",
    "\n",
    "Ticker: $Sprite\n",
    "Name: Sprite Dog\n",
    "Description: Drink Sprite.\n",
    "\n",
    "Renounced: ✅   |   Burned: ✅\n",
    "Freeze ❄️: Disabled ✅\n",
    "\n",
    "DISTRIBUTIONS\n",
    "Creator: 0%  |  Top 5: 20%  |  Top 20: 46%\n",
    "\n",
    "Market Cap: 85.1k USD\n",
    "Liquidity Pool value: 32.7k USD\n",
    "Tokens in LP: 18%\n",
    "\n",
    "Open time: just created | 18:24 UTC\n",
    "Mint: Fk6QHKs4jZdEERzSWU3y2UgHT3j2smoi5q6nAH9pump\n",
    "BirdEye (https://birdeye.so/token/Fk6QHKs4jZdEERzSWU3y2UgHT3j2smoi5q6nAH9pump?chain=solana&tab=recentTrades) | SolScan (https://solscan.io/account/8R9JkR5ZwGQRbej3GwVNUwqePdKSUhjgRBuSs2iaJHBn) | DexScreener (https://dexscreener.com/solana/8R9JkR5ZwGQRbej3GwVNUwqePdKSUhjgRBuSs2iaJHBn)\n",
    "\n",
    "⬇️ BUY $Sprite with BONKBot ⬇️\n",
    "\"\"\""
   ]
  },
  {
   "cell_type": "code",
   "execution_count": 45,
   "metadata": {},
   "outputs": [],
   "source": [
    "def string_to_float(s):\n",
    "    multipliers = {\n",
    "        'k': 1_000,\n",
    "        'm': 1_000_000,\n",
    "        'b': 1_000_000_000,\n",
    "        't': 1_000_000_000_000\n",
    "    }\n",
    "    # Get the last character to determine the multiplier\n",
    "    suffix = str(s)[-1]\n",
    "    if suffix.isdigit():\n",
    "        # No multiplier suffix; directly convert to float\n",
    "        return float(s)\n",
    "    else:\n",
    "        # Extract the numeric part and apply the multiplier\n",
    "        try:\n",
    "            num = float(s[:-1])\n",
    "            multiplier = multipliers.get(suffix.lower(), 1)\n",
    "            return num * multiplier\n",
    "        except ValueError:\n",
    "            raise ValueError(f\"Cannot convert '{s}' to float.\")\n",
    "        \n",
    "def extract_pool_info(text: str) -> dict:\n",
    "    # Define regular expressions for extracting information\n",
    "    ticker_pattern = r\"Ticker:\\s*\\$(\\w+)\"\n",
    "    name_pattern = r\"Name:\\s*(.+)\"\n",
    "    description_pattern = r\"Description:\\s*(.+?)(?=\\nRenounced:)\"\n",
    "    renounced_pattern = r\"Renounced:\\s*(✅|❌)\"\n",
    "    burned_pattern = r\"Burned:\\s*(✅|❌)\"\n",
    "    freeze_pattern = r\"Freeze(?: ❄️)?:\\s*(Enabled|Disabled)\\s*(✅|❌)\"\n",
    "    # creator_distribution_pattern = r\"Creator:\\s*([\\d.]+%)\"\n",
    "    top5_distribution_pattern = r\"Top 5:\\s*(?:⚠️)?(\\d+)%\"\n",
    "    top20_distribution_pattern = r\"Top 20:\\s*(?:⚠️)?(\\d+)%\"\n",
    "    market_cap_pattern = r\"Market Cap:\\s*([\\d.]+k)\\s*USD\"\n",
    "    liquidity_pool_pattern = r\"Liquidity Pool value:\\s*([\\d.]+k)\\s*USD\"\n",
    "    mint_pattern = r\"Mint:\\s*(\\w+)\"\n",
    "    \n",
    "    # Extract information using regex patterns\n",
    "    ticker = re.search(ticker_pattern, text)\n",
    "    name = re.search(name_pattern, text)\n",
    "    description = re.search(description_pattern, text, re.DOTALL)\n",
    "    renounced = re.search(renounced_pattern, text)\n",
    "    burned = re.search(burned_pattern, text)\n",
    "    freeze = re.search(freeze_pattern, text)\n",
    "    # creator_distribution = re.search(creator_distribution_pattern, text)\n",
    "    top5_distribution = re.search(top5_distribution_pattern, text)\n",
    "    top20_distribution = re.search(top20_distribution_pattern, text)\n",
    "    market_cap = re.search(market_cap_pattern, text)\n",
    "    liquidity_pool_value = re.search(liquidity_pool_pattern, text)\n",
    "    mint = re.search(mint_pattern, text)\n",
    "    \n",
    "    # Return the extracted information\n",
    "    return {\n",
    "        'Ticker': ticker.group(1) if ticker else None,\n",
    "        'Name': name.group(1) if name else None,\n",
    "        'Description': description.group(1).strip() if description else None,\n",
    "        'Renounced': \"YES\" if renounced and renounced.group(1) == r\"✅\" else None,\n",
    "        'Burned': \"YES\" if burned and burned.group(1) == r\"✅\" else None,\n",
    "        'Freeze': freeze.group(1) if freeze and freeze else None,\n",
    "        # 'Creator Distribution': creator_distribution.group(1) if creator_distribution else None,\n",
    "        'Top_5_Holder_Percent': top5_distribution.group(1) if top5_distribution else None,\n",
    "        'Top_20_Holder_Percent': top20_distribution.group(1) if top20_distribution else None,\n",
    "        'Market_Cap': string_to_float(market_cap.group(1)) if market_cap else None,\n",
    "        'Liquidity_Pool_Value': string_to_float(liquidity_pool_value.group(1)) if liquidity_pool_value else None,\n",
    "        'Mint': mint.group(1) if mint else None,\n",
    "        \"Dex_Url\": f\"https://dexscreener.com/solana/{mint.group(1) if mint else None}\",\n",
    "        \"Photon_Url\": f\"https://photon-sol.tinyastro.io/en/lp/{mint.group(1) if mint else None}\"\n",
    "    }\n"
   ]
  },
  {
   "cell_type": "code",
   "execution_count": 46,
   "metadata": {},
   "outputs": [
    {
     "name": "stdout",
     "output_type": "stream",
     "text": [
      "Ticker: Sprite\n",
      "Name: Sprite Dog\n",
      "Description: Drink Sprite.\n",
      "Renounced: YES\n",
      "Burned: YES\n",
      "Freeze: Disabled\n",
      "Top_5_Holder_Percent: 20\n",
      "Top_20_Holder_Percent: 46\n",
      "Market_Cap: 85100.0\n",
      "Liquidity_Pool_Value: 32700.000000000004\n",
      "Mint: Fk6QHKs4jZdEERzSWU3y2UgHT3j2smoi5q6nAH9pump\n",
      "Dex_Url: https://dexscreener.com/solana/Fk6QHKs4jZdEERzSWU3y2UgHT3j2smoi5q6nAH9pump\n",
      "Photon_Url: https://photon-sol.tinyastro.io/en/lp/Fk6QHKs4jZdEERzSWU3y2UgHT3j2smoi5q6nAH9pump\n"
     ]
    }
   ],
   "source": [
    "info = extract_pool_info(text)\n",
    "for key, value in info.items():\n",
    "    print(f\"{key}: {value}\")\n",
    "    "
   ]
  },
  {
   "cell_type": "code",
   "execution_count": 1,
   "metadata": {},
   "outputs": [],
   "source": []
  },
  {
   "cell_type": "code",
   "execution_count": 16,
   "metadata": {},
   "outputs": [
    {
     "name": "stderr",
     "output_type": "stream",
     "text": [
      "/opt/homebrew/Caskroom/miniconda/base/lib/python3.10/site-packages/pygments/regexopt.py:78: RuntimeWarning: coroutine 'search_in_group' was never awaited\n",
      "  for group in groupby(strings, lambda s: s[0] == first[0])) \\\n",
      "RuntimeWarning: Enable tracemalloc to get the object allocation traceback\n",
      "/opt/homebrew/Caskroom/miniconda/base/lib/python3.10/site-packages/pygments/regexopt.py:78: RuntimeWarning: coroutine 'UserMethods.get_entity' was never awaited\n",
      "  for group in groupby(strings, lambda s: s[0] == first[0])) \\\n",
      "RuntimeWarning: Enable tracemalloc to get the object allocation traceback\n"
     ]
    },
    {
     "ename": "OperationalError",
     "evalue": "database is locked",
     "output_type": "error",
     "traceback": [
      "\u001b[0;31m---------------------------------------------------------------------------\u001b[0m",
      "\u001b[0;31mOperationalError\u001b[0m                          Traceback (most recent call last)",
      "Cell \u001b[0;32mIn[16], line 9\u001b[0m\n\u001b[1;32m      5\u001b[0m api_hash \u001b[38;5;241m=\u001b[39m \u001b[38;5;124m'\u001b[39m\u001b[38;5;124m7662a65de55b21a4349bf0ceb078bd67\u001b[39m\u001b[38;5;124m'\u001b[39m\n\u001b[1;32m      6\u001b[0m username \u001b[38;5;241m=\u001b[39m \u001b[38;5;124m'\u001b[39m\u001b[38;5;124mvp0526\u001b[39m\u001b[38;5;124m'\u001b[39m  \u001b[38;5;66;03m# Replace with the actual username\u001b[39;00m\n\u001b[0;32m----> 9\u001b[0m \u001b[38;5;28;01masync\u001b[39;00m \u001b[38;5;28;01mwith\u001b[39;00m TelegramClient(\u001b[38;5;124m'\u001b[39m\u001b[38;5;124msession_name\u001b[39m\u001b[38;5;124m'\u001b[39m, api_id, api_hash) \u001b[38;5;28;01mas\u001b[39;00m client:\n\u001b[1;32m     10\u001b[0m     \u001b[38;5;28;01mtry\u001b[39;00m:\n\u001b[1;32m     11\u001b[0m         entity \u001b[38;5;241m=\u001b[39m client\u001b[38;5;241m.\u001b[39mget_entity(username)\n",
      "File \u001b[0;32m/opt/homebrew/Caskroom/miniconda/base/lib/python3.10/site-packages/telethon/client/telegrambaseclient.py:308\u001b[0m, in \u001b[0;36mTelegramBaseClient.__init__\u001b[0;34m(self, session, api_id, api_hash, connection, use_ipv6, proxy, local_addr, timeout, request_retries, connection_retries, retry_delay, auto_reconnect, sequential_updates, flood_sleep_threshold, raise_last_call_error, device_model, system_version, app_version, lang_code, system_lang_code, loop, base_logger, receive_updates, catch_up, entity_cache_limit)\u001b[0m\n\u001b[1;32m    305\u001b[0m \u001b[38;5;66;03m# ':' in session.server_address is True if it's an IPv6 address\u001b[39;00m\n\u001b[1;32m    306\u001b[0m \u001b[38;5;28;01mif\u001b[39;00m (\u001b[38;5;129;01mnot\u001b[39;00m session\u001b[38;5;241m.\u001b[39mserver_address \u001b[38;5;129;01mor\u001b[39;00m\n\u001b[1;32m    307\u001b[0m         (\u001b[38;5;124m'\u001b[39m\u001b[38;5;124m:\u001b[39m\u001b[38;5;124m'\u001b[39m \u001b[38;5;129;01min\u001b[39;00m session\u001b[38;5;241m.\u001b[39mserver_address) \u001b[38;5;241m!=\u001b[39m use_ipv6):\n\u001b[0;32m--> 308\u001b[0m     \u001b[43msession\u001b[49m\u001b[38;5;241;43m.\u001b[39;49m\u001b[43mset_dc\u001b[49m\u001b[43m(\u001b[49m\n\u001b[1;32m    309\u001b[0m \u001b[43m        \u001b[49m\u001b[43mDEFAULT_DC_ID\u001b[49m\u001b[43m,\u001b[49m\n\u001b[1;32m    310\u001b[0m \u001b[43m        \u001b[49m\u001b[43mDEFAULT_IPV6_IP\u001b[49m\u001b[43m \u001b[49m\u001b[38;5;28;43;01mif\u001b[39;49;00m\u001b[43m \u001b[49m\u001b[38;5;28;43mself\u001b[39;49m\u001b[38;5;241;43m.\u001b[39;49m\u001b[43m_use_ipv6\u001b[49m\u001b[43m \u001b[49m\u001b[38;5;28;43;01melse\u001b[39;49;00m\u001b[43m \u001b[49m\u001b[43mDEFAULT_IPV4_IP\u001b[49m\u001b[43m,\u001b[49m\n\u001b[1;32m    311\u001b[0m \u001b[43m        \u001b[49m\u001b[43mDEFAULT_PORT\u001b[49m\n\u001b[1;32m    312\u001b[0m \u001b[43m    \u001b[49m\u001b[43m)\u001b[49m\n\u001b[1;32m    314\u001b[0m \u001b[38;5;28mself\u001b[39m\u001b[38;5;241m.\u001b[39mflood_sleep_threshold \u001b[38;5;241m=\u001b[39m flood_sleep_threshold\n\u001b[1;32m    316\u001b[0m \u001b[38;5;66;03m# TODO Use AsyncClassWrapper(session)\u001b[39;00m\n\u001b[1;32m    317\u001b[0m \u001b[38;5;66;03m# ChatGetter and SenderGetter can use the in-memory _mb_entity_cache\u001b[39;00m\n\u001b[1;32m    318\u001b[0m \u001b[38;5;66;03m# to avoid network access and the need for await in session files.\u001b[39;00m\n\u001b[0;32m   (...)\u001b[0m\n\u001b[1;32m    322\u001b[0m \u001b[38;5;66;03m# TODO Session should probably return all cached\u001b[39;00m\n\u001b[1;32m    323\u001b[0m \u001b[38;5;66;03m#      info of entities, not just the input versions\u001b[39;00m\n",
      "File \u001b[0;32m/opt/homebrew/Caskroom/miniconda/base/lib/python3.10/site-packages/telethon/sessions/sqlite.py:168\u001b[0m, in \u001b[0;36mSQLiteSession.set_dc\u001b[0;34m(self, dc_id, server_address, port)\u001b[0m\n\u001b[1;32m    166\u001b[0m \u001b[38;5;28;01mdef\u001b[39;00m \u001b[38;5;21mset_dc\u001b[39m(\u001b[38;5;28mself\u001b[39m, dc_id, server_address, port):\n\u001b[1;32m    167\u001b[0m     \u001b[38;5;28msuper\u001b[39m()\u001b[38;5;241m.\u001b[39mset_dc(dc_id, server_address, port)\n\u001b[0;32m--> 168\u001b[0m     \u001b[38;5;28;43mself\u001b[39;49m\u001b[38;5;241;43m.\u001b[39;49m\u001b[43m_update_session_table\u001b[49m\u001b[43m(\u001b[49m\u001b[43m)\u001b[49m\n\u001b[1;32m    170\u001b[0m     \u001b[38;5;66;03m# Fetch the auth_key corresponding to this data center\u001b[39;00m\n\u001b[1;32m    171\u001b[0m     row \u001b[38;5;241m=\u001b[39m \u001b[38;5;28mself\u001b[39m\u001b[38;5;241m.\u001b[39m_execute(\u001b[38;5;124m'\u001b[39m\u001b[38;5;124mselect auth_key from sessions\u001b[39m\u001b[38;5;124m'\u001b[39m)\n",
      "File \u001b[0;32m/opt/homebrew/Caskroom/miniconda/base/lib/python3.10/site-packages/telethon/sessions/sqlite.py:194\u001b[0m, in \u001b[0;36mSQLiteSession._update_session_table\u001b[0;34m(self)\u001b[0m\n\u001b[1;32m    188\u001b[0m c \u001b[38;5;241m=\u001b[39m \u001b[38;5;28mself\u001b[39m\u001b[38;5;241m.\u001b[39m_cursor()\n\u001b[1;32m    189\u001b[0m \u001b[38;5;66;03m# While we can save multiple rows into the sessions table\u001b[39;00m\n\u001b[1;32m    190\u001b[0m \u001b[38;5;66;03m# currently we only want to keep ONE as the tables don't\u001b[39;00m\n\u001b[1;32m    191\u001b[0m \u001b[38;5;66;03m# tell us which auth_key's are usable and will work. Needs\u001b[39;00m\n\u001b[1;32m    192\u001b[0m \u001b[38;5;66;03m# some more work before being able to save auth_key's for\u001b[39;00m\n\u001b[1;32m    193\u001b[0m \u001b[38;5;66;03m# multiple DCs. Probably done differently.\u001b[39;00m\n\u001b[0;32m--> 194\u001b[0m \u001b[43mc\u001b[49m\u001b[38;5;241;43m.\u001b[39;49m\u001b[43mexecute\u001b[49m\u001b[43m(\u001b[49m\u001b[38;5;124;43m'\u001b[39;49m\u001b[38;5;124;43mdelete from sessions\u001b[39;49m\u001b[38;5;124;43m'\u001b[39;49m\u001b[43m)\u001b[49m\n\u001b[1;32m    195\u001b[0m c\u001b[38;5;241m.\u001b[39mexecute(\u001b[38;5;124m'\u001b[39m\u001b[38;5;124minsert or replace into sessions values (?,?,?,?,?)\u001b[39m\u001b[38;5;124m'\u001b[39m, (\n\u001b[1;32m    196\u001b[0m     \u001b[38;5;28mself\u001b[39m\u001b[38;5;241m.\u001b[39m_dc_id,\n\u001b[1;32m    197\u001b[0m     \u001b[38;5;28mself\u001b[39m\u001b[38;5;241m.\u001b[39m_server_address,\n\u001b[0;32m   (...)\u001b[0m\n\u001b[1;32m    200\u001b[0m     \u001b[38;5;28mself\u001b[39m\u001b[38;5;241m.\u001b[39m_takeout_id\n\u001b[1;32m    201\u001b[0m ))\n\u001b[1;32m    202\u001b[0m c\u001b[38;5;241m.\u001b[39mclose()\n",
      "\u001b[0;31mOperationalError\u001b[0m: database is locked"
     ]
    }
   ],
   "source": [
    "from telethon.sync import TelegramClient\n",
    "# from telethon.errors import TypeError\n",
    "\n",
    "api_id = '24890651'\n",
    "api_hash = '7662a65de55b21a4349bf0ceb078bd67'\n",
    "username = 'vp0526'  # Replace with the actual username\n",
    "\n",
    "\n",
    "async with TelegramClient('session_name', api_id, api_hash) as client:\n",
    "    try:\n",
    "        entity = client.get_entity(username)\n",
    "        print(entity)\n",
    "    # except ValueError:\n",
    "    #     print(f\"Cannot find any entity corresponding to {username}\")\n",
    "    except Exception as e:\n",
    "        print(f\"An unexpected error occurred: {e}\")\n"
   ]
  },
  {
   "cell_type": "code",
   "execution_count": null,
   "metadata": {},
   "outputs": [],
   "source": []
  }
 ],
 "metadata": {
  "kernelspec": {
   "display_name": "Python 3",
   "language": "python",
   "name": "python3"
  },
  "language_info": {
   "codemirror_mode": {
    "name": "ipython",
    "version": 3
   },
   "file_extension": ".py",
   "mimetype": "text/x-python",
   "name": "python",
   "nbconvert_exporter": "python",
   "pygments_lexer": "ipython3",
   "version": "3.10.9"
  }
 },
 "nbformat": 4,
 "nbformat_minor": 2
}
